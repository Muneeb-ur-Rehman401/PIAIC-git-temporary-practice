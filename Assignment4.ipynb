{
  "nbformat": 4,
  "nbformat_minor": 0,
  "metadata": {
    "colab": {
      "provenance": []
    },
    "kernelspec": {
      "name": "python3",
      "display_name": "Python 3"
    },
    "language_info": {
      "name": "python"
    }
  },
  "cells": [
    {
      "cell_type": "markdown",
      "source": [
        "3.1 : Names"
      ],
      "metadata": {
        "id": "A3zIWzgJgGtK"
      }
    },
    {
      "cell_type": "code",
      "execution_count": null,
      "metadata": {
        "colab": {
          "base_uri": "https://localhost:8080/"
        },
        "id": "3WWrj3-tcN5J",
        "outputId": "55ace3a4-6151-473f-c12c-3b252ccdce0d"
      },
      "outputs": [
        {
          "output_type": "stream",
          "name": "stdout",
          "text": [
            "Ahmad\n",
            "Ali\n",
            "Jahanzaib\n"
          ]
        }
      ],
      "source": [
        "names = [ \"Ahmad\" , \"Ali\" , \"Jahanzaib\" ]\n",
        "print(names[0])\n",
        "print(names[1])\n",
        "print(names[2])"
      ]
    },
    {
      "cell_type": "markdown",
      "source": [
        "3.2 : Greetings"
      ],
      "metadata": {
        "id": "pkVp9AKGjDaS"
      }
    },
    {
      "cell_type": "code",
      "source": [
        "print(\"Hy,\" ,names[0],\"!\"  ,\"How are you?\" )\n",
        "print(\"Hy,\" ,names[1],\"!\" ,\"How are you?\" )\n",
        "print(\"Hy,\" ,names[2] ,\"!\" ,\"How are you?\" )"
      ],
      "metadata": {
        "colab": {
          "base_uri": "https://localhost:8080/"
        },
        "id": "6nha-JoVjHqC",
        "outputId": "559f2d06-2e1e-4605-ec8f-58af88c86f69"
      },
      "execution_count": null,
      "outputs": [
        {
          "output_type": "stream",
          "name": "stdout",
          "text": [
            "Hy, Ahmad ! How are you?\n",
            "Hy, Ali ! How are you?\n",
            "Hy, Jahanzaib ! How are you?\n"
          ]
        }
      ]
    },
    {
      "cell_type": "markdown",
      "source": [
        "3.3 : Your own list"
      ],
      "metadata": {
        "id": "Ru6pdwvemoIS"
      }
    },
    {
      "cell_type": "code",
      "source": [
        "transport = [\"Motorcycle\" , \"Bplecycle\" , \"Car\" , \"Bus\" , ]\n",
        "print(f\"I like to ride {transport[0]}, but there is very winter on it.\")\n",
        "print(f\"{transport[1]} is for exercise.\")\n",
        "print(f\"{transport[2]} is very easy travel but it so expensive.\")\n",
        "print(f\"{transport[3]} is also very easy travel and also on low cost.\")"
      ],
      "metadata": {
        "id": "KcR8b5rxlsaq",
        "colab": {
          "base_uri": "https://localhost:8080/"
        },
        "outputId": "fa48fe57-4205-4048-871c-6835688818bf"
      },
      "execution_count": null,
      "outputs": [
        {
          "output_type": "stream",
          "name": "stdout",
          "text": [
            "I like to ride Motorcycle, but there is very winter on it.\n",
            "Bplecycle is for exercise.\n",
            "Car is very easy travel but it so expensive.\n",
            "Bus is also very easy travel and also on low cost.\n"
          ]
        }
      ]
    },
    {
      "cell_type": "markdown",
      "source": [
        "3.4 : Guest list"
      ],
      "metadata": {
        "id": "afd0UNHEtSrL"
      }
    },
    {
      "cell_type": "code",
      "source": [
        "person = [\"Hina\", \"Ayesha\" , \"Maryam\"]\n",
        "print(f\"Hy, {person[0]}! I would be truly honored to invite you to dinner.I will be happy when you come in my invitation.\")\n",
        "print(f\"Hy, {person[1]}! I would be truly honored to invite you to dinner.I will be happy when you come in my invitation.\")\n",
        "print(f\"Hy, {person[2]}! I would be truly honored to invite you to dinner.I will be happy when you come in my invitation.\")"
      ],
      "metadata": {
        "colab": {
          "base_uri": "https://localhost:8080/"
        },
        "id": "DN5QI6-OtXpi",
        "outputId": "422cebe6-b5d3-431c-f825-533b323ecda9"
      },
      "execution_count": null,
      "outputs": [
        {
          "output_type": "stream",
          "name": "stdout",
          "text": [
            "Hy, Hina! I would be truly honored to invite you to dinner.I will be happy when you come in my invitation.\n",
            "Hy, Ayesha! I would be truly honored to invite you to dinner.I will be happy when you come in my invitation.\n",
            "Hy, Maryam! I would be truly honored to invite you to dinner.I will be happy when you come in my invitation.\n"
          ]
        }
      ]
    },
    {
      "cell_type": "markdown",
      "source": [
        "3.5 : Changing Guest list"
      ],
      "metadata": {
        "id": "ToyqlRAQydnD"
      }
    },
    {
      "cell_type": "code",
      "source": [
        "\n",
        "print(f\"{person[1]}! you cannot attened my invitation due to some works. Ok no problem.  \")\n",
        "person[1] = \"Alia\"\n",
        "print(f\"Hy {person[0]}, {person[1]}, {person[2]}! Please accept my invitation.\")"
      ],
      "metadata": {
        "colab": {
          "base_uri": "https://localhost:8080/"
        },
        "id": "lAN0mUMfynbq",
        "outputId": "5e0f9341-1f99-46ea-8482-fbf613f59710"
      },
      "execution_count": null,
      "outputs": [
        {
          "output_type": "stream",
          "name": "stdout",
          "text": [
            "Ayesha! you cannot attened my invitation due to some works. Ok no problem.  \n",
            "Hy Hina, Alia, Maryam! Please accept my invitation.\n"
          ]
        }
      ]
    },
    {
      "cell_type": "markdown",
      "source": [
        "3.6 : More Guest"
      ],
      "metadata": {
        "id": "QCdzwtY_3Pcb"
      }
    },
    {
      "cell_type": "code",
      "source": [
        "print(f\"Hy {person[0]}, {person[1]}, {person[2]}! I found a bigger table.\")\n",
        "person.insert(0, \"Anam\")\n",
        "person.insert(2, \"Amna\")\n",
        "person.append(\"Ammara\")\n",
        "print(f\"Hy, {person} Please come in party. \\n Sorry, Now just two people can invite only two people.\")"
      ],
      "metadata": {
        "colab": {
          "base_uri": "https://localhost:8080/"
        },
        "id": "kbKlk2Sh3Tba",
        "outputId": "fe9e6e7d-2486-4245-95c6-1eafaa31870c"
      },
      "execution_count": null,
      "outputs": [
        {
          "output_type": "stream",
          "name": "stdout",
          "text": [
            "Hy Hina, Alia, Maryam! I found a bigger table.\n",
            "Hy, ['Anam', 'Hina', 'Amna', 'Alia', 'Maryam', 'Ammara'] Please come in party. \n",
            " Sorry, Now just two people can invite only two people.\n"
          ]
        }
      ]
    },
    {
      "cell_type": "markdown",
      "source": [
        "3.7 : Shrinking Guest List"
      ],
      "metadata": {
        "id": "UhNqRoCA6PvD"
      }
    },
    {
      "cell_type": "code",
      "source": [
        "print(person)\n",
        "print(person.pop(0), \"Sorry , you cannot come to our dinner party.\")\n",
        "print(person.pop(1), \"Sorry , you cannot come to our dinner party.\")\n",
        "print(person.pop(2), \"Sorry , you cannot come to our dinner party.\")\n",
        "print(f\"Hy, {person} ! just you can come on my party.\")\n",
        "del person\n"
      ],
      "metadata": {
        "colab": {
          "base_uri": "https://localhost:8080/"
        },
        "id": "L5nh5B2U6VlT",
        "outputId": "20742f0b-f636-4dfa-eadb-3b9303723067"
      },
      "execution_count": null,
      "outputs": [
        {
          "output_type": "stream",
          "name": "stdout",
          "text": [
            "['Anam', 'Hina', 'Amna', 'Alia', 'Maryam', 'Ammara']\n",
            "Anam Sorry , you cannot come to our dinner party.\n",
            "Amna Sorry , you cannot come to our dinner party.\n",
            "Maryam Sorry , you cannot come to our dinner party.\n",
            "Hy, ['Hina', 'Alia', 'Ammara'] ! just you can come on my party.\n"
          ]
        }
      ]
    },
    {
      "cell_type": "markdown",
      "source": [
        "sir sorry i cannot  do more coding because i cannot understand please in next class explain to this."
      ],
      "metadata": {
        "id": "SvS0CYbdInjR"
      }
    }
  ]
}